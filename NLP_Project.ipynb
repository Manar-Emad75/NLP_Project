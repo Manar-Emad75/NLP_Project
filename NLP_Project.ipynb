{
  "nbformat": 4,
  "nbformat_minor": 0,
  "metadata": {
    "colab": {
      "provenance": [],
      "include_colab_link": true
    },
    "kernelspec": {
      "name": "python3",
      "display_name": "Python 3"
    },
    "language_info": {
      "name": "python"
    }
  },
  "cells": [
    {
      "cell_type": "markdown",
      "metadata": {
        "id": "view-in-github",
        "colab_type": "text"
      },
      "source": [
        "<a href=\"https://colab.research.google.com/github/Manar-Emad75/NLP_Project/blob/main/NLP_Project.ipynb\" target=\"_parent\"><img src=\"https://colab.research.google.com/assets/colab-badge.svg\" alt=\"Open In Colab\"/></a>"
      ]
    },
    {
      "cell_type": "code",
      "execution_count": null,
      "metadata": {
        "id": "bt3WQfCdc2Bf"
      },
      "outputs": [],
      "source": [
        "from sklearn.feature_extraction.text import TfidfVectorizer\n",
        "from sklearn.svm import SVC\n",
        "import nltk\n",
        "import os\n",
        "import re\n",
        "import pickle\n",
        "import string\n",
        "from nltk.tokenize import word_tokenize\n",
        "from nltk.corpus import stopwords\n",
        "import zipfile\n",
        "from sklearn.model_selection import train_test_split\n",
        "from sklearn.linear_model import LogisticRegression\n",
        "from sklearn.metrics import classification_report, accuracy_score\n",
        "from nltk.stem import WordNetLemmatizer\n",
        "import matplotlib.pyplot as plt"
      ]
    },
    {
      "cell_type": "code",
      "source": [
        "nltk.download('punkt')\n",
        "nltk.download('stopwords')\n",
        "nltk.download('wordnet')"
      ],
      "metadata": {
        "colab": {
          "base_uri": "https://localhost:8080/"
        },
        "id": "3XT48Uw1pBQ5",
        "outputId": "d0c2fb56-c7aa-4930-c3b6-fadf16e6a72d"
      },
      "execution_count": null,
      "outputs": [
        {
          "output_type": "stream",
          "name": "stderr",
          "text": [
            "[nltk_data] Downloading package punkt to /root/nltk_data...\n",
            "[nltk_data]   Package punkt is already up-to-date!\n",
            "[nltk_data] Downloading package stopwords to /root/nltk_data...\n",
            "[nltk_data]   Package stopwords is already up-to-date!\n",
            "[nltk_data] Downloading package wordnet to /root/nltk_data...\n",
            "[nltk_data]   Package wordnet is already up-to-date!\n"
          ]
        },
        {
          "output_type": "execute_result",
          "data": {
            "text/plain": [
              "True"
            ]
          },
          "metadata": {},
          "execution_count": 69
        }
      ]
    },
    {
      "cell_type": "code",
      "source": [
        "zip_file_path = '/content/pos.zip'\n",
        "extracted_folder_path = '/content/extracted_folder'\n",
        "os.makedirs(extracted_folder_path, exist_ok=True)\n",
        "with zipfile.ZipFile(zip_file_path, 'r') as zip_ref:\n",
        "    zip_ref.extractall(extracted_folder_path)\n",
        "\n",
        "\n",
        "zip_file_path = '/content/neg.zip'\n",
        "extracted_folder_path = '/content/extracted_folder'\n",
        "os.makedirs(extracted_folder_path, exist_ok=True)\n",
        "with zipfile.ZipFile(zip_file_path, 'r') as zip_ref:\n",
        "    zip_ref.extractall(extracted_folder_path)\n",
        "\n",
        "folderNeg_path = '/content/extracted_folder/neg'\n",
        "folderPos_path = '/content/extracted_folder/pos'"
      ],
      "metadata": {
        "id": "bVoBOEHZR6U0"
      },
      "execution_count": null,
      "outputs": []
    },
    {
      "cell_type": "markdown",
      "source": [
        "#Read text files and put them in list"
      ],
      "metadata": {
        "id": "9Vhgh9yYpdi_"
      }
    },
    {
      "cell_type": "code",
      "source": [
        "def read_text_files(folder_path):\n",
        "    texts = []\n",
        "    files = os.listdir(folder_path)\n",
        "    for file_name in files:\n",
        "        if file_name.endswith('.txt'):\n",
        "            file_path = os.path.join(folder_path, file_name)\n",
        "            with open(file_path, 'r') as f:\n",
        "                text = f.read()\n",
        "                texts.append(text)\n",
        "    return texts"
      ],
      "metadata": {
        "id": "bmqK5-82pWKo"
      },
      "execution_count": null,
      "outputs": []
    },
    {
      "cell_type": "code",
      "source": [
        "texts_folderNeg = read_text_files(folderNeg_path)\n",
        "texts_folderPos = read_text_files(folderPos_path)\n",
        "\n",
        "# access spacifice file in list\n",
        "neg_file = texts_folderNeg[20]"
      ],
      "metadata": {
        "id": "Bp_1jI9Npz9r"
      },
      "execution_count": null,
      "outputs": []
    },
    {
      "cell_type": "code",
      "source": [
        "def preprocess_text(text):\n",
        "\n",
        "    # Lowercasing\n",
        "    text = text.lower()\n",
        "\n",
        "    # Removing punctuation\n",
        "    text = text.translate(str.maketrans('', '', string.punctuation))\n",
        "\n",
        "    # tokenization and Removing stopwords\n",
        "    stop_words = set(stopwords.words('english'))\n",
        "    word_tokens = word_tokenize(text)\n",
        "    filtered_text = [word for word in word_tokens if word not in stop_words]\n",
        "\n",
        "    # Lemmatization\n",
        "    lemmatizer = WordNetLemmatizer()\n",
        "    lemmatized_text = [lemmatizer.lemmatize(word) for word in filtered_text]\n",
        "    # print(lemmatized_text)\n",
        "\n",
        "    # Joining the lemmatized text back into a single string\n",
        "    processed_text = ' '.join(lemmatized_text)\n",
        "\n",
        "    return processed_text"
      ],
      "metadata": {
        "id": "c4ZkUCAiQ5cy"
      },
      "execution_count": null,
      "outputs": []
    },
    {
      "cell_type": "markdown",
      "source": [
        "#Load data as train(X) and test(Y)"
      ],
      "metadata": {
        "id": "peiOXYkMh9hd"
      }
    },
    {
      "cell_type": "code",
      "source": [
        "def load_data(folder):\n",
        "    reviews = []\n",
        "    labels = []\n",
        "    for file in os.listdir(folder):\n",
        "        with open(os.path.join(folder, file), 'r', encoding='utf-8') as f:\n",
        "            review = f.read()\n",
        "            processed_review = preprocess_text(review)\n",
        "            reviews.append(processed_review)\n",
        "            labels.append(folder.split('/')[-1])  # Extract label from folder name\n",
        "    return reviews, labels"
      ],
      "metadata": {
        "id": "ZE_l6eX3PytN"
      },
      "execution_count": null,
      "outputs": []
    },
    {
      "cell_type": "code",
      "source": [
        "positive_reviews, positive_labels = load_data(folderPos_path)\n",
        "negative_reviews, negative_labels = load_data(folderNeg_path)"
      ],
      "metadata": {
        "id": "72WoOMrmgKQd"
      },
      "execution_count": null,
      "outputs": []
    },
    {
      "cell_type": "markdown",
      "source": [
        "#Combine all positive and negative file to train model"
      ],
      "metadata": {
        "id": "zk-EVhPbiRY1"
      }
    },
    {
      "cell_type": "code",
      "source": [
        "# Combine positive and negative reviews and labels\n",
        "all_reviews = positive_reviews + negative_reviews\n",
        "all_labels = positive_labels + negative_labels"
      ],
      "metadata": {
        "id": "Yh3M0_TBHvIf"
      },
      "execution_count": null,
      "outputs": []
    },
    {
      "cell_type": "markdown",
      "source": [
        "#Apply TF-IDF"
      ],
      "metadata": {
        "id": "rwUh5Wd3lcnd"
      }
    },
    {
      "cell_type": "code",
      "source": [
        "# Feature Extraction TF-IDF\n",
        "vectorizer = TfidfVectorizer()\n",
        "\n",
        "#define train and test\n",
        "X = vectorizer.fit_transform(all_reviews)\n",
        "\n",
        "with open('vectorizer.pkl', 'wb') as f:\n",
        "    pickle.dump(X, f)\n",
        "\n",
        "y = all_labels\n",
        "# print(X)"
      ],
      "metadata": {
        "id": "6JT1mYwDT9vy"
      },
      "execution_count": null,
      "outputs": []
    },
    {
      "cell_type": "markdown",
      "source": [
        "# Data Spliting"
      ],
      "metadata": {
        "id": "tcFpSNzulkUA"
      }
    },
    {
      "cell_type": "code",
      "source": [
        "# Model Training and Testing\n",
        "X_train, X_test, y_train, y_test = train_test_split(X, y, test_size=0.2, random_state=42)"
      ],
      "metadata": {
        "id": "Aj3nrm7qUB7A"
      },
      "execution_count": null,
      "outputs": []
    },
    {
      "cell_type": "markdown",
      "source": [
        "# Apply Classifier"
      ],
      "metadata": {
        "id": "qFObkHIHluNa"
      }
    },
    {
      "cell_type": "code",
      "source": [
        "classifier = LogisticRegression()\n",
        "classifier.fit(X_train, y_train)\n",
        "\n",
        "with open('logistic_regression.pkl', 'wb') as f:\n",
        "    pickle.dump(classifier.fit(X_train, y_train), f)\n",
        "\n",
        "# Predict the labels of the test data\n",
        "y_pred_train_logistic = classifier.predict(X_train)\n",
        "y_pred_test_logistic = classifier.predict(X_test)\n",
        "\n",
        "train_accuracy_logistic = accuracy_score(y_train, y_pred_train_logistic)\n",
        "test_accuracy_logisitc = accuracy_score(y_test, y_pred_test_logistic)\n",
        "\n",
        "\n",
        "# Print accuracies\n",
        "print(\"Logistic Regression:\")\n",
        "print(\"Accuracy of train = {:.2f}%\".format(train_accuracy_logistic * 100))\n",
        "print(\"Accuracy of test = {:.2f}%\".format(test_accuracy_logisitc * 100))\n",
        "\n",
        "\n",
        "# Classification report for train and test data\n",
        "print(\"\\nClassification Report for Logistic Regression - Train Data:\")\n",
        "print(classification_report(y_train, y_pred_train_logistic))\n",
        "print(\"\\nClassification Report for Logistic Regression - Test Data:\")\n",
        "print(classification_report(y_test, y_pred_test_logistic))"
      ],
      "metadata": {
        "colab": {
          "base_uri": "https://localhost:8080/"
        },
        "id": "5BN3ESauUG0p",
        "outputId": "a233792d-fdfd-4688-abe4-2623906bf77d"
      },
      "execution_count": null,
      "outputs": [
        {
          "output_type": "stream",
          "name": "stdout",
          "text": [
            "Logistic Regression:\n",
            "Accuracy of train = 97.56%\n",
            "Accuracy of test = 84.75%\n",
            "\n",
            "Classification Report for Logistic Regression - Train Data:\n",
            "              precision    recall  f1-score   support\n",
            "\n",
            "         neg       0.97      0.98      0.98       799\n",
            "         pos       0.98      0.97      0.98       801\n",
            "\n",
            "    accuracy                           0.98      1600\n",
            "   macro avg       0.98      0.98      0.98      1600\n",
            "weighted avg       0.98      0.98      0.98      1600\n",
            "\n",
            "\n",
            "Classification Report for Logistic Regression - Test Data:\n",
            "              precision    recall  f1-score   support\n",
            "\n",
            "         neg       0.87      0.82      0.84       201\n",
            "         pos       0.83      0.87      0.85       199\n",
            "\n",
            "    accuracy                           0.85       400\n",
            "   macro avg       0.85      0.85      0.85       400\n",
            "weighted avg       0.85      0.85      0.85       400\n",
            "\n"
          ]
        }
      ]
    },
    {
      "cell_type": "code",
      "source": [
        "# Plot accuracy\n",
        "plt.figure(figsize=(6, 4))\n",
        "plt.bar(['Train Accuracy', 'Test Accuracy'], [train_accuracy_logistic, test_accuracy_logisitc], color=['skyblue', 'orange'])\n",
        "plt.xlabel('Accuracy')\n",
        "plt.ylabel('Value')\n",
        "plt.title(f'Accuracy of logistic')\n",
        "plt.ylim(0, 1)\n",
        "plt.show()"
      ],
      "metadata": {
        "colab": {
          "base_uri": "https://localhost:8080/",
          "height": 410
        },
        "id": "dHEoGbb1eHhZ",
        "outputId": "25693817-7110-4b90-ba7c-473bfb6e38fb"
      },
      "execution_count": null,
      "outputs": [
        {
          "output_type": "display_data",
          "data": {
            "text/plain": [
              "<Figure size 600x400 with 1 Axes>"
            ],
            "image/png": "[encoded data removed]"
          },
          "metadata": {}
        }
      ]
    },
    {
      "cell_type": "code",
      "source": [
        "svm_classifier = SVC(kernel='linear')\n",
        "svm_classifier.fit(X_train, y_train)\n",
        "\n",
        "with open('logistic_regression.pkl', 'wb') as f:\n",
        "    pickle.dump(svm_classifier.fit(X_train, y_train), f)\n",
        "# Predict the labels of the test data\n",
        "y_pred_test_svm = svm_classifier.predict(X_test)\n",
        "y_pred_train_svm=svm_classifier.predict(X_train)\n",
        "\n",
        "# Calculate accuracies\n",
        "train_accuracy_svm = accuracy_score(y_train, y_pred_train_svm)\n",
        "test_accuracy_svm = accuracy_score(y_test, y_pred_test_svm)\n",
        "\n",
        "\n",
        "# Print accuracies\n",
        "print(\"\\nSVM:\")\n",
        "print(\"Accuracy of train = {:.2f}%\".format(train_accuracy_svm * 100))\n",
        "print(\"Accuracy of test = {:.2f}%\".format(test_accuracy_svm * 100))\n",
        "\n",
        "# Classification report for train and test data\n",
        "print(\"\\nClassification Report for SVM - Train Data:\")\n",
        "print(classification_report(y_train, y_pred_train_svm))\n",
        "print(\"\\nClassification Report for SVM - Test Data:\")\n",
        "print(classification_report(y_test, y_pred_test_svm))\n"
      ],
      "metadata": {
        "id": "7_JTrpH_qgjt",
        "colab": {
          "base_uri": "https://localhost:8080/"
        },
        "outputId": "f5b42820-573f-4f74-a6e3-504582868c93"
      },
      "execution_count": null,
      "outputs": [
        {
          "output_type": "stream",
          "name": "stdout",
          "text": [
            "\n",
            "SVM:\n",
            "Accuracy of train = 99.38%\n",
            "Accuracy of test = 86.00%\n",
            "\n",
            "Classification Report for SVM - Train Data:\n",
            "              precision    recall  f1-score   support\n",
            "\n",
            "         neg       0.99      0.99      0.99       799\n",
            "         pos       0.99      0.99      0.99       801\n",
            "\n",
            "    accuracy                           0.99      1600\n",
            "   macro avg       0.99      0.99      0.99      1600\n",
            "weighted avg       0.99      0.99      0.99      1600\n",
            "\n",
            "\n",
            "Classification Report for SVM - Test Data:\n",
            "              precision    recall  f1-score   support\n",
            "\n",
            "         neg       0.89      0.83      0.86       201\n",
            "         pos       0.84      0.89      0.86       199\n",
            "\n",
            "    accuracy                           0.86       400\n",
            "   macro avg       0.86      0.86      0.86       400\n",
            "weighted avg       0.86      0.86      0.86       400\n",
            "\n"
          ]
        }
      ]
    },
    {
      "cell_type": "code",
      "source": [
        "plt.figure(figsize=(6, 4))\n",
        "plt.bar(['Train Accuracy', 'Test Accuracy'], [train_accuracy_svm, test_accuracy_svm], color=['skyblue', 'orange'])\n",
        "plt.xlabel('Accuracy')\n",
        "plt.ylabel('Value')\n",
        "plt.title(f'Accuracy of SVM')\n",
        "plt.ylim(0, 1)\n",
        "plt.show()"
      ],
      "metadata": {
        "id": "B-mbtLCGiD6M",
        "colab": {
          "base_uri": "https://localhost:8080/",
          "height": 410
        },
        "outputId": "b1c70d47-1f10-42f7-af9e-f446cb9faf5a"
      },
      "execution_count": null,
      "outputs": [
        {
          "output_type": "display_data",
          "data": {
            "text/plain": [
              "<Figure size 600x400 with 1 Axes>"
            ],
            "image/png": "[encoded data removed]"
          },
          "metadata": {}
        }
      ]
    },
    {
      "cell_type": "code",
      "source": [
        "# Plotting accuracies of both models\n",
        "plt.figure(figsize=(10, 6))\n",
        "\n",
        "# Bar positions\n",
        "bar_positions = [0.4, 1.4]\n",
        "bar_width = 0.35\n",
        "\n",
        "# Train accuracies\n",
        "plt.bar([pos - bar_width/2 for pos in bar_positions], [train_accuracy_logistic, train_accuracy_svm], bar_width, label='Train Accuracy')\n",
        "\n",
        "# Test accuracies\n",
        "plt.bar([pos + bar_width/2 for pos in bar_positions], [test_accuracy_logisitc, test_accuracy_svm], bar_width, label='Test Accuracy')\n",
        "\n",
        "# X-axis labels\n",
        "plt.xticks(bar_positions, ['Logistic Regression', 'SVM'])\n",
        "\n",
        "plt.xlabel('Model')\n",
        "plt.ylabel('Accuracy')\n",
        "plt.title('Train and Test Accuracy Comparison')\n",
        "plt.legend()\n",
        "plt.ylim(0, 1)\n",
        "plt.show()"
      ],
      "metadata": {
        "id": "_bOVjZACicMg",
        "colab": {
          "base_uri": "https://localhost:8080/",
          "height": 564
        },
        "outputId": "5f89975c-fab9-4e85-cfea-6adc5600beb6"
      },
      "execution_count": null,
      "outputs": [
        {
          "output_type": "display_data",
          "data": {
            "text/plain": [
              "<Figure size 1000x600 with 1 Axes>"
            ],
            "image/png": "[encoded data removed]"
          },
          "metadata": {}
        }
      ]
    },
    {
      "cell_type": "markdown",
      "source": [
        "#func to colored output"
      ],
      "metadata": {
        "id": "xfFkFb2muG7e"
      }
    },
    {
      "cell_type": "code",
      "source": [
        "from IPython.display import display, HTML\n",
        "\n",
        "# Define HTML for displaying text in specified color and style\n",
        "def colored_text(text, color='black', style='normal'):\n",
        "    color_code = {'black': 'black', 'red': 'red', 'green': 'green'}\n",
        "    style_code = {'normal': 'normal', 'bold': 'bold'}\n",
        "\n",
        "    return f\"<span style='color:{color_code[color]}; font-weight:{style_code[style]}'>{text}</span>\""
      ],
      "metadata": {
        "id": "iyvFyviBuF9L"
      },
      "execution_count": null,
      "outputs": []
    },
    {
      "cell_type": "markdown",
      "source": [
        "#Define if file is positive or negative"
      ],
      "metadata": {
        "id": "3Oh2csMRgQ5J"
      }
    },
    {
      "cell_type": "code",
      "source": [
        "# aplay pre-processing to file\n",
        "processed_review = preprocess_text(neg_file)\n",
        "\n",
        "# Transform the preprocessed review into a TF-IDF vector\n",
        "review_vector = vectorizer.transform([processed_review])\n",
        "\n",
        "# Classify the sentiment using the trained classifier in LogisticRegression\n",
        "sentiment = classifier.predict(review_vector)[0]\n",
        "# sentiment = svm_classifier.predict(review_vector)[0]\n",
        "\n",
        "if sentiment == 'neg':\n",
        "    display(HTML(colored_text('Negative Review', color='red', style='bold')))\n",
        "else:\n",
        "    display(HTML(colored_text('Positive Review', color='green', style='bold')))"
      ],
      "metadata": {
        "id": "cmd6REBGgPyT",
        "colab": {
          "base_uri": "https://localhost:8080/",
          "height": 34
        },
        "outputId": "4f3cfee2-6c7d-47a8-8971-825ead3ca2ca"
      },
      "execution_count": null,
      "outputs": [
        {
          "output_type": "display_data",
          "data": {
            "text/plain": [
              "<IPython.core.display.HTML object>"
            ],
            "text/html": [
              "<span style='color:red; font-weight:bold'>Negative Review</span>"
            ]
          },
          "metadata": {}
        }
      ]
    },
    {
      "cell_type": "markdown",
      "source": [
        "#Saving the model"
      ],
      "metadata": {
        "id": "yv2g3qCFjrpE"
      }
    },
    {
      "cell_type": "code",
      "source": [
        "import joblib\n",
        "import matplotlib.pyplot as plt\n",
        "model_filename = 'sentiment_classifier_model.pkl'\n",
        "joblib.dump(classifier, model_filename)\n",
        "\n",
        "# Check if the model file exists\n",
        "if os.path.exists(model_filename):\n",
        "    print(\"Model has been saved successfully.\")\n",
        "else:\n",
        "    print(\"Model could not be saved. Please check the file path.\")"
      ],
      "metadata": {
        "id": "ZTHcy3LOjqZN",
        "colab": {
          "base_uri": "https://localhost:8080/"
        },
        "outputId": "99efa61b-09ae-4697-80ca-12e5674cf0a9"
      },
      "execution_count": null,
      "outputs": [
        {
          "output_type": "stream",
          "name": "stdout",
          "text": [
            "Model has been saved successfully.\n"
          ]
        }
      ]
    },
    {
      "cell_type": "code",
      "source": [
        "import joblib\n",
        "import string\n",
        "from nltk.corpus import stopwords\n",
        "from nltk.tokenize import word_tokenize\n",
        "from nltk.stem import WordNetLemmatizer\n",
        "\n",
        "# Load the saved model\n",
        "model_filename = 'sentiment_classifier_model.pkl'\n",
        "classifier = joblib.load(model_filename)\n",
        "\n",
        "# Get user input\n",
        "user_review = input(\"Enter your review: \")\n",
        "\n",
        "# Preprocess the user-input review\n",
        "processed_review = preprocess_text(user_review)\n",
        "\n",
        "# Transform the preprocessed review into a TF-IDF vector\n",
        "review_vector = vectorizer.transform([processed_review])\n",
        "\n",
        "# Predict the sentiment of the user-input review\n",
        "sentiment = classifier.predict(review_vector)[0]\n",
        "\n",
        "# Display the result to the user\n",
        "if sentiment == 'neg':\n",
        "    print(\"The review is Negative.\")\n",
        "else:\n",
        "    print(\"The review is Positive.\")\n"
      ],
      "metadata": {
        "id": "7I7SzRMFG1DD",
        "colab": {
          "base_uri": "https://localhost:8080/"
        },
        "outputId": "34a3ff02-68d1-4f97-8ec7-e38f50ec4882"
      },
      "execution_count": 90,
      "outputs": [
        {
          "output_type": "stream",
          "name": "stdout",
          "text": [
            "Enter your review: bad film\n",
            "The review is Negative.\n"
          ]
        }
      ]
    },
    {
      "cell_type": "code",
      "source": [
        "#import pickle\n",
        "\n",
        "# Save classifier and vectorizer\n",
        "#with open('classifier.pkl', 'wb') as f:\n",
        "#    pickle.dump(classifier, f)\n",
        "\n",
        "#with open('vectorizer.pkl', 'wb') as f:\n",
        "#    pickle.dump(vectorizer, f)\n",
        "\n",
        "# Load classifier and vectorizer\n",
        "#with open('classifier.pkl', 'rb') as f:\n",
        "#    classifier = pickle.load(f)\n",
        "\n",
        "#with open('vectorizer.pkl', 'rb') as f:\n",
        "#    vectorizer = pickle.load(f)\n",
        "\n",
        "# Now you can use the loaded classifier and vectorizer to predict the sentiment of new reviews\n"
      ],
      "metadata": {
        "id": "927pNi3dqv6D"
      },
      "execution_count": null,
      "outputs": []
    }
  ]
}